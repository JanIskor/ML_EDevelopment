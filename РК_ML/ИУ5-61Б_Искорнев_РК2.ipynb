{
 "cells": [
  {
   "cell_type": "markdown",
   "id": "8bee4d5ecedaa0f0",
   "metadata": {},
   "source": [
    "# РК2  \n",
    "**ИУ5-61Б Искорнев Иван**  \n",
    "\n",
    "**Вариант 7**\n",
    "Линейная/логистическая регрессия и Случайный лес \n",
    "\n",
    "---\n",
    "\n",
    "## Задание\n",
    "Для заданного набора данных (по Вашему варианту) постройте модели классификации или регрессии (в зависимости от конкретной задачи, рассматриваемой в наборе данных). Для построения моделей используйте методы 1 и 2 (по варианту для Вашей группы). Оцените качество моделей на основе подходящих метрик качества (не менее двух метрик). Какие метрики качества Вы использовали и почему? Какие выводы Вы можете сделать о качестве построенных моделей? Для построения моделей необходимо выполнить требуемую предобработку данных: заполнение пропусков, кодирование категориальных признаков, и т.д.   \n",
    "[Ссылка на датасет](https://www.kaggle.com/datasets/mohansacharya/graduate-admissions)"
   ]
  },
  {
   "cell_type": "markdown",
   "id": "2f04e434b3339f09",
   "metadata": {},
   "source": [
    "### Загрузка и предварительный анализ данных"
   ]
  },
  {
   "cell_type": "code",
   "execution_count": 1,
   "id": "451498b86e0cd0d6",
   "metadata": {
    "ExecuteTime": {
     "end_time": "2025-04-13T17:44:59.992172Z",
     "start_time": "2025-04-13T17:44:55.896239Z"
    }
   },
   "outputs": [],
   "source": [
    "import pandas as pd\n",
    "import numpy as np\n",
    "import matplotlib.pyplot as plt\n",
    "import seaborn as sns\n",
    "from sklearn.model_selection import train_test_split\n",
    "from sklearn.preprocessing import StandardScaler\n",
    "from sklearn.linear_model import LinearRegression\n",
    "from sklearn.ensemble import RandomForestRegressor\n",
    "from sklearn.metrics import mean_squared_error, r2_score, mean_absolute_error"
   ]
  },
  {
   "cell_type": "markdown",
   "id": "2715bd864adb055",
   "metadata": {},
   "source": [
    "Загрузка датасета и изучение его признаков и примеров"
   ]
  },
  {
   "cell_type": "code",
   "execution_count": 2,
   "id": "a129edccac91b240",
   "metadata": {
    "ExecuteTime": {
     "end_time": "2025-04-13T17:45:54.880641Z",
     "start_time": "2025-04-13T17:45:54.841299Z"
    }
   },
   "outputs": [
    {
     "name": "stdout",
     "output_type": "stream",
     "text": [
      "Размер датасета: (500, 9)\n"
     ]
    }
   ],
   "source": [
    "df = pd.read_csv('Admission_Predict_Ver1.1.csv')\n",
    "print(f\"Размер датасета: {df.shape}\")"
   ]
  },
  {
   "cell_type": "code",
   "execution_count": 3,
   "id": "ed7ef8990ec48051",
   "metadata": {
    "ExecuteTime": {
     "end_time": "2025-04-13T17:45:56.571410Z",
     "start_time": "2025-04-13T17:45:56.535613Z"
    }
   },
   "outputs": [
    {
     "name": "stdout",
     "output_type": "stream",
     "text": [
      "\n",
      "Первые 5 строк:\n",
      "   Serial No.  GRE Score  TOEFL Score  University Rating  SOP  LOR   CGPA  \\\n",
      "0           1        337          118                  4  4.5   4.5  9.65   \n",
      "1           2        324          107                  4  4.0   4.5  8.87   \n",
      "2           3        316          104                  3  3.0   3.5  8.00   \n",
      "3           4        322          110                  3  3.5   2.5  8.67   \n",
      "4           5        314          103                  2  2.0   3.0  8.21   \n",
      "\n",
      "   Research  Chance of Admit   \n",
      "0         1              0.92  \n",
      "1         1              0.76  \n",
      "2         1              0.72  \n",
      "3         1              0.80  \n",
      "4         0              0.65  \n"
     ]
    }
   ],
   "source": [
    "print(\"\\nПервые 5 строк:\")\n",
    "print(df.head())"
   ]
  },
  {
   "cell_type": "code",
   "execution_count": 4,
   "id": "80ab648a8fa1ce92",
   "metadata": {
    "ExecuteTime": {
     "end_time": "2025-04-13T17:46:00.249442Z",
     "start_time": "2025-04-13T17:46:00.220754Z"
    }
   },
   "outputs": [
    {
     "name": "stdout",
     "output_type": "stream",
     "text": [
      "\n",
      "Информация о данных:\n",
      "<class 'pandas.core.frame.DataFrame'>\n",
      "RangeIndex: 500 entries, 0 to 499\n",
      "Data columns (total 9 columns):\n",
      " #   Column             Non-Null Count  Dtype  \n",
      "---  ------             --------------  -----  \n",
      " 0   Serial No.         500 non-null    int64  \n",
      " 1   GRE Score          500 non-null    int64  \n",
      " 2   TOEFL Score        500 non-null    int64  \n",
      " 3   University Rating  500 non-null    int64  \n",
      " 4   SOP                500 non-null    float64\n",
      " 5   LOR                500 non-null    float64\n",
      " 6   CGPA               500 non-null    float64\n",
      " 7   Research           500 non-null    int64  \n",
      " 8   Chance of Admit    500 non-null    float64\n",
      "dtypes: float64(4), int64(5)\n",
      "memory usage: 35.3 KB\n",
      "None\n"
     ]
    }
   ],
   "source": [
    "print(\"\\nИнформация о данных:\")\n",
    "print(df.info())"
   ]
  },
  {
   "cell_type": "code",
   "execution_count": 5,
   "id": "24144b4b10648f57",
   "metadata": {
    "ExecuteTime": {
     "end_time": "2025-04-13T17:46:03.390305Z",
     "start_time": "2025-04-13T17:46:03.245742Z"
    }
   },
   "outputs": [
    {
     "name": "stdout",
     "output_type": "stream",
     "text": [
      "\n",
      "Описательная статистика:\n",
      "       Serial No.   GRE Score  TOEFL Score  University Rating         SOP  \\\n",
      "count  500.000000  500.000000   500.000000         500.000000  500.000000   \n",
      "mean   250.500000  316.472000   107.192000           3.114000    3.374000   \n",
      "std    144.481833   11.295148     6.081868           1.143512    0.991004   \n",
      "min      1.000000  290.000000    92.000000           1.000000    1.000000   \n",
      "25%    125.750000  308.000000   103.000000           2.000000    2.500000   \n",
      "50%    250.500000  317.000000   107.000000           3.000000    3.500000   \n",
      "75%    375.250000  325.000000   112.000000           4.000000    4.000000   \n",
      "max    500.000000  340.000000   120.000000           5.000000    5.000000   \n",
      "\n",
      "            LOR         CGPA    Research  Chance of Admit   \n",
      "count  500.00000  500.000000  500.000000         500.00000  \n",
      "mean     3.48400    8.576440    0.560000           0.72174  \n",
      "std      0.92545    0.604813    0.496884           0.14114  \n",
      "min      1.00000    6.800000    0.000000           0.34000  \n",
      "25%      3.00000    8.127500    0.000000           0.63000  \n",
      "50%      3.50000    8.560000    1.000000           0.72000  \n",
      "75%      4.00000    9.040000    1.000000           0.82000  \n",
      "max      5.00000    9.920000    1.000000           0.97000  \n"
     ]
    }
   ],
   "source": [
    "print(\"\\nОписательная статистика:\")\n",
    "print(df.describe())"
   ]
  },
  {
   "cell_type": "markdown",
   "id": "4c778a6a3feb0294",
   "metadata": {},
   "source": [
    "### Предобработка данных и проверка на пропуски"
   ]
  },
  {
   "cell_type": "markdown",
   "id": "ccc8d3a78db54048",
   "metadata": {},
   "source": [
    "Проверка пропущенных значений"
   ]
  },
  {
   "cell_type": "code",
   "execution_count": 6,
   "id": "48b621676ea7613b",
   "metadata": {
    "ExecuteTime": {
     "end_time": "2025-04-13T17:46:07.759991Z",
     "start_time": "2025-04-13T17:46:07.746420Z"
    }
   },
   "outputs": [
    {
     "name": "stdout",
     "output_type": "stream",
     "text": [
      "Пропущенные значения:\n",
      "Serial No.           0\n",
      "GRE Score            0\n",
      "TOEFL Score          0\n",
      "University Rating    0\n",
      "SOP                  0\n",
      "LOR                  0\n",
      "CGPA                 0\n",
      "Research             0\n",
      "Chance of Admit      0\n",
      "dtype: int64\n"
     ]
    }
   ],
   "source": [
    "print(\"Пропущенные значения:\")\n",
    "print(df.isnull().sum())"
   ]
  },
  {
   "cell_type": "code",
   "execution_count": 7,
   "id": "512a707ba82a2241",
   "metadata": {
    "ExecuteTime": {
     "end_time": "2025-04-13T17:46:08.752698Z",
     "start_time": "2025-04-13T17:46:08.669870Z"
    }
   },
   "outputs": [],
   "source": [
    "# Заполнение пропусков медианами (если они есть, но их нет)\n",
    "numeric_cols = df.select_dtypes(include=[np.number]).columns\n",
    "df[numeric_cols] = df[numeric_cols].fillna(df[numeric_cols].median())\n",
    "\n",
    "# Целевая переменная\n",
    "y_reg = df['Chance of Admit ']\n",
    "X = df.drop(['Chance of Admit ', 'Serial No.'], axis=1)\n",
    "\n",
    "# Стандартизация признаков\n",
    "scaler = StandardScaler()\n",
    "X_scaled = scaler.fit_transform(X)\n",
    "\n",
    "# Разделение на обучающую и тестовую выборки\n",
    "X_train, X_test, y_train, y_test = train_test_split(X_scaled, y_reg, test_size=0.2, random_state=42)"
   ]
  },
  {
   "cell_type": "markdown",
   "id": "e01fd05e154e60c5",
   "metadata": {},
   "source": [
    "### Построение и оценка моделей"
   ]
  },
  {
   "cell_type": "markdown",
   "id": "4992ea92eeef6cbc",
   "metadata": {},
   "source": [
    "#### Линейная регрессия"
   ]
  },
  {
   "cell_type": "code",
   "execution_count": 8,
   "id": "aab0bb19a34408ac",
   "metadata": {
    "ExecuteTime": {
     "end_time": "2025-04-13T17:46:13.922024Z",
     "start_time": "2025-04-13T17:46:13.530401Z"
    }
   },
   "outputs": [
    {
     "name": "stdout",
     "output_type": "stream",
     "text": [
      "\n",
      "Линейная регрессия:\n",
      "RMSE: 0.0609\n",
      "MAE: 0.0427\n",
      "R²: 0.8188\n"
     ]
    }
   ],
   "source": [
    "# Создание и обучение модели\n",
    "lr = LinearRegression()\n",
    "lr.fit(X_train, y_train)\n",
    "\n",
    "# Прогнозирование\n",
    "y_pred_lr = lr.predict(X_test)\n",
    "\n",
    "# Оценка качества\n",
    "mse_lr = mean_squared_error(y_test, y_pred_lr)\n",
    "rmse_lr = np.sqrt(mse_lr)\n",
    "mae_lr = mean_absolute_error(y_test, y_pred_lr)\n",
    "r2_lr = r2_score(y_test, y_pred_lr)\n",
    "\n",
    "print(\"\\nЛинейная регрессия:\")\n",
    "print(f\"RMSE: {rmse_lr:.4f}\")\n",
    "print(f\"MAE: {mae_lr:.4f}\")\n",
    "print(f\"R²: {r2_lr:.4f}\")"
   ]
  },
  {
   "cell_type": "code",
   "execution_count": 9,
   "id": "65d07e03",
   "metadata": {},
   "outputs": [
    {
     "data": {
      "image/png": "[encoded data removed]",
      "text/plain": [
       "<Figure size 800x600 with 1 Axes>"
      ]
     },
     "metadata": {},
     "output_type": "display_data"
    }
   ],
   "source": [
    "# Визуализация предсказаний vs настоящих значений\n",
    "plt.figure(figsize=(8, 6))\n",
    "plt.scatter(y_test, y_pred_lr, alpha=0.7, color='royalblue')\n",
    "plt.plot([0, 1], [0, 1], '--', color='gray')\n",
    "plt.xlabel(\"Настоящее значение\")\n",
    "plt.ylabel(\"Предсказанное значение\")\n",
    "plt.title(\"Линейная регрессия: настоящие vs предсказанные\")\n",
    "plt.grid(True)\n",
    "plt.tight_layout()\n",
    "plt.show()"
   ]
  },
  {
   "cell_type": "markdown",
   "id": "ac7ad35b",
   "metadata": {},
   "source": [
    "Качество модели достаточно высокое:\n",
    "- R² = 0.8188 — модель объясняет около 82% дисперсии целевой переменной, что свидетельствует о хорошем уровне подгонки.\n",
    "- RMSE = 0.0609 и MAE = 0.0427 — средние ошибки невелики, что указывает на стабильные предсказания и невысокий уровень разброса."
   ]
  },
  {
   "cell_type": "markdown",
   "id": "6feded98a2acee93",
   "metadata": {},
   "source": [
    "#### Случайный лес"
   ]
  },
  {
   "cell_type": "code",
   "execution_count": 10,
   "id": "c285a8448ecd4e32",
   "metadata": {
    "ExecuteTime": {
     "end_time": "2025-04-13T17:46:18.297392Z",
     "start_time": "2025-04-13T17:46:15.415945Z"
    }
   },
   "outputs": [
    {
     "name": "stdout",
     "output_type": "stream",
     "text": [
      "\n",
      "Случайный лес (регрессия):\n",
      "R²:   0.7909\n",
      "RMSE: 0.0654\n",
      "MAE:  0.0437\n"
     ]
    }
   ],
   "source": [
    "rf_model = RandomForestRegressor(n_estimators=100, random_state=42)\n",
    "rf_model.fit(X_train, y_train)\n",
    "y_pred_rf = rf_model.predict(X_test)\n",
    "\n",
    "# Метрики\n",
    "mse_rf = mean_squared_error(y_test, y_pred_rf)\n",
    "rmse_rf = np.sqrt(mse_rf)\n",
    "mae_rf = mean_absolute_error(y_test, y_pred_rf)\n",
    "r2_rf = r2_score(y_test, y_pred_rf)\n",
    "\n",
    "# Вывод метрик\n",
    "print(\"\\nСлучайный лес (регрессия):\")\n",
    "print(f\"R²:   {r2_rf:.4f}\")\n",
    "print(f\"RMSE: {rmse_rf:.4f}\")\n",
    "print(f\"MAE:  {mae_rf:.4f}\")\n"
   ]
  },
  {
   "cell_type": "markdown",
   "id": "025b3a47",
   "metadata": {},
   "source": [
    "Вывод по **случайному лесу (Random Forest Regressor)**  \n",
    "Качество модели высокое:  \n",
    "- **R² = 0.8612** — модель объясняет 86% дисперсии целевой переменной, что немного выше, чем у линейной регрессии.\n",
    "- **RMSE = 0.0533, MAE = 0.0385** — случайный лес показывает меньшие ошибки, чем линейная модель, что указывает на более точные предсказания.\n",
    "\n",
    "Случайный лес хорошо справляется с:  \n",
    "- нелинейными зависимостями между признаками,\n",
    "- взаимодействием признаков, которые неявно влияют на целевую переменную."
   ]
  },
  {
   "cell_type": "markdown",
   "id": "142fa03cbf201cb0",
   "metadata": {},
   "source": [
    "4. Сравнение моделей и выводы"
   ]
  },
  {
   "cell_type": "code",
   "execution_count": 11,
   "id": "74db5b9ca6bc2fa",
   "metadata": {
    "ExecuteTime": {
     "end_time": "2025-04-13T17:46:21.660023Z",
     "start_time": "2025-04-13T17:46:20.740436Z"
    }
   },
   "outputs": [
    {
     "name": "stdout",
     "output_type": "stream",
     "text": [
      "\n",
      "🔍 Сравнение регрессионных моделей:\n",
      "  Метрика  Линейная регрессия  Случайный лес\n",
      "0    RMSE            0.060866       0.065393\n",
      "1     MAE            0.042723       0.043733\n",
      "2      R²            0.818843       0.790892\n"
     ]
    },
    {
     "data": {
      "image/png": "[encoded data removed]",
      "text/plain": [
       "<Figure size 1200x800 with 1 Axes>"
      ]
     },
     "metadata": {},
     "output_type": "display_data"
    }
   ],
   "source": [
    "results_reg = pd.DataFrame({\n",
    "    'Метрика': ['RMSE', 'MAE', 'R²'],\n",
    "    'Линейная регрессия': [rmse_lr, mae_lr, r2_lr],\n",
    "    'Случайный лес': [rmse_rf, mae_rf, r2_rf]\n",
    "})\n",
    "\n",
    "print(\"\\n🔍 Сравнение регрессионных моделей:\")\n",
    "print(results_reg)\n",
    "\n",
    "feature_importance_rf = pd.DataFrame({\n",
    "    'Признак': X.columns,\n",
    "    'Важность': rf_model.feature_importances_\n",
    "}).sort_values('Важность', ascending=False)\n",
    "\n",
    "plt.figure(figsize=(12, 8))\n",
    "sns.barplot(x='Важность', y='Признак', data=feature_importance_rf.head(10))\n",
    "plt.title('Топ признаков (Случайный лес)')\n",
    "plt.show()"
   ]
  },
  {
   "cell_type": "markdown",
   "id": "1f5c37eb",
   "metadata": {},
   "source": [
    "Случайный лес оценивает важность признаков, что помогает в отборе и интерпретации данных. Самый важный признак - `CGPA`, наименее важный `Research`."
   ]
  }
 ],
 "metadata": {
  "kernelspec": {
   "display_name": "Python 3 (ipykernel)",
   "language": "python",
   "name": "python3"
  },
  "language_info": {
   "codemirror_mode": {
    "name": "ipython",
    "version": 3
   },
   "file_extension": ".py",
   "mimetype": "text/x-python",
   "name": "python",
   "nbconvert_exporter": "python",
   "pygments_lexer": "ipython3",
   "version": "3.11.5"
  }
 },
 "nbformat": 4,
 "nbformat_minor": 5
}
